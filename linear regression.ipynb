{
 "cells": [
  {
   "cell_type": "markdown",
   "id": "da3e600b-651b-48fe-9ce8-ac7f51207002",
   "metadata": {},
   "source": [
    "The objective of this notebook is to compare the methodologies used in linear regression: traditional statistical techniques versus machine learning optimization methods, such as gradient descent.\n",
    "- First, I will demonstrate the statistical approach using a single variable.\n",
    "- Next, I will show how to perform regression with two variables using matrix operations—a method that generalizes easily to more variables.\n",
    "- Then, I will replicate the same procedure using a machine learning approach, specifically gradient descent.\n",
    "- Finally, I will conclude by discussing the relevance of this methodological comparison for the field of data science and how it opens new possibilities for applying deep learning techniques."
   ]
  },
  {
   "cell_type": "code",
   "execution_count": 1,
   "id": "cfaeb05d-557b-4bba-9e02-d48b67820ac3",
   "metadata": {
    "tags": []
   },
   "outputs": [],
   "source": [
    "from tqdm import tqdm\n",
    "from typing import Tuple, List, Optional\n",
    "\n",
    "import numpy as np\n",
    "import pandas as pd\n",
    "import matplotlib.pyplot as plt\n",
    "from sklearn.linear_model import LinearRegression\n",
    "from sklearn.metrics import r2_score "
   ]
  },
  {
   "cell_type": "code",
   "execution_count": 2,
   "id": "066391b8-5b6a-4d1d-b684-285ac8490234",
   "metadata": {
    "tags": []
   },
   "outputs": [
    {
     "data": {
      "text/html": [
       "<div>\n",
       "<style scoped>\n",
       "    .dataframe tbody tr th:only-of-type {\n",
       "        vertical-align: middle;\n",
       "    }\n",
       "\n",
       "    .dataframe tbody tr th {\n",
       "        vertical-align: top;\n",
       "    }\n",
       "\n",
       "    .dataframe thead th {\n",
       "        text-align: right;\n",
       "    }\n",
       "</style>\n",
       "<table border=\"1\" class=\"dataframe\">\n",
       "  <thead>\n",
       "    <tr style=\"text-align: right;\">\n",
       "      <th></th>\n",
       "      <th>Id</th>\n",
       "      <th>GrLivArea</th>\n",
       "      <th>GarageArea</th>\n",
       "      <th>SalePrice</th>\n",
       "    </tr>\n",
       "  </thead>\n",
       "  <tbody>\n",
       "    <tr>\n",
       "      <th>0</th>\n",
       "      <td>1</td>\n",
       "      <td>1710</td>\n",
       "      <td>548</td>\n",
       "      <td>208500</td>\n",
       "    </tr>\n",
       "    <tr>\n",
       "      <th>1</th>\n",
       "      <td>2</td>\n",
       "      <td>1262</td>\n",
       "      <td>460</td>\n",
       "      <td>181500</td>\n",
       "    </tr>\n",
       "    <tr>\n",
       "      <th>2</th>\n",
       "      <td>3</td>\n",
       "      <td>1786</td>\n",
       "      <td>608</td>\n",
       "      <td>223500</td>\n",
       "    </tr>\n",
       "    <tr>\n",
       "      <th>3</th>\n",
       "      <td>4</td>\n",
       "      <td>1717</td>\n",
       "      <td>642</td>\n",
       "      <td>140000</td>\n",
       "    </tr>\n",
       "    <tr>\n",
       "      <th>4</th>\n",
       "      <td>5</td>\n",
       "      <td>2198</td>\n",
       "      <td>836</td>\n",
       "      <td>250000</td>\n",
       "    </tr>\n",
       "    <tr>\n",
       "      <th>...</th>\n",
       "      <td>...</td>\n",
       "      <td>...</td>\n",
       "      <td>...</td>\n",
       "      <td>...</td>\n",
       "    </tr>\n",
       "    <tr>\n",
       "      <th>1455</th>\n",
       "      <td>1456</td>\n",
       "      <td>1647</td>\n",
       "      <td>460</td>\n",
       "      <td>175000</td>\n",
       "    </tr>\n",
       "    <tr>\n",
       "      <th>1456</th>\n",
       "      <td>1457</td>\n",
       "      <td>2073</td>\n",
       "      <td>500</td>\n",
       "      <td>210000</td>\n",
       "    </tr>\n",
       "    <tr>\n",
       "      <th>1457</th>\n",
       "      <td>1458</td>\n",
       "      <td>2340</td>\n",
       "      <td>252</td>\n",
       "      <td>266500</td>\n",
       "    </tr>\n",
       "    <tr>\n",
       "      <th>1458</th>\n",
       "      <td>1459</td>\n",
       "      <td>1078</td>\n",
       "      <td>240</td>\n",
       "      <td>142125</td>\n",
       "    </tr>\n",
       "    <tr>\n",
       "      <th>1459</th>\n",
       "      <td>1460</td>\n",
       "      <td>1256</td>\n",
       "      <td>276</td>\n",
       "      <td>147500</td>\n",
       "    </tr>\n",
       "  </tbody>\n",
       "</table>\n",
       "<p>1460 rows × 4 columns</p>\n",
       "</div>"
      ],
      "text/plain": [
       "        Id  GrLivArea  GarageArea  SalePrice\n",
       "0        1       1710         548     208500\n",
       "1        2       1262         460     181500\n",
       "2        3       1786         608     223500\n",
       "3        4       1717         642     140000\n",
       "4        5       2198         836     250000\n",
       "...    ...        ...         ...        ...\n",
       "1455  1456       1647         460     175000\n",
       "1456  1457       2073         500     210000\n",
       "1457  1458       2340         252     266500\n",
       "1458  1459       1078         240     142125\n",
       "1459  1460       1256         276     147500\n",
       "\n",
       "[1460 rows x 4 columns]"
      ]
     },
     "execution_count": 2,
     "metadata": {},
     "output_type": "execute_result"
    }
   ],
   "source": [
    "# Data from: https://www.kaggle.com/competitions/house-prices-advanced-regression-techniques/data\n",
    "# SalePrice - the property's sale price in dollars. This is the target variable that you're trying to predict.\n",
    "# GrLivArea: Above-ground living area (in square feet)\n",
    "# GarageArea: Garage size (in square feet)\n",
    "df = pd.read_csv(\"./data/train.csv\", usecols = ['Id', 'SalePrice', 'GrLivArea', 'GarageArea'])\n",
    "df"
   ]
  },
  {
   "cell_type": "markdown",
   "id": "7121bded-4cf4-41ab-a4a5-06913a06fbc0",
   "metadata": {},
   "source": [
    "## Initial Checks\n",
    "I am not focusing on exploratory data analysis (EDA) in this notebook. However, I will perform some basic data checks to identify any potential issues with the dataset.\n",
    "\n",
    "Specifically, I want to verify:\n",
    "- that all data types are correct (e.g., no unexpected characters in numeric variables),\n",
    "- that there are no missing values,\n",
    "- and that the variables exhibit some variance."
   ]
  },
  {
   "cell_type": "code",
   "execution_count": 3,
   "id": "e7a4e501-c4d2-4cb3-be12-4b20e1d07ef6",
   "metadata": {
    "tags": []
   },
   "outputs": [
    {
     "name": "stdout",
     "output_type": "stream",
     "text": [
      "<class 'pandas.core.frame.DataFrame'>\n",
      "RangeIndex: 1460 entries, 0 to 1459\n",
      "Data columns (total 4 columns):\n",
      " #   Column      Non-Null Count  Dtype\n",
      "---  ------      --------------  -----\n",
      " 0   Id          1460 non-null   int64\n",
      " 1   GrLivArea   1460 non-null   int64\n",
      " 2   GarageArea  1460 non-null   int64\n",
      " 3   SalePrice   1460 non-null   int64\n",
      "dtypes: int64(4)\n",
      "memory usage: 45.8 KB\n"
     ]
    }
   ],
   "source": [
    "# Verify data type\n",
    "df.info()"
   ]
  },
  {
   "cell_type": "code",
   "execution_count": 4,
   "id": "cba37fd5-ed59-4269-93bb-bbe5f59cebb9",
   "metadata": {
    "tags": []
   },
   "outputs": [
    {
     "data": {
      "text/html": [
       "<div>\n",
       "<style scoped>\n",
       "    .dataframe tbody tr th:only-of-type {\n",
       "        vertical-align: middle;\n",
       "    }\n",
       "\n",
       "    .dataframe tbody tr th {\n",
       "        vertical-align: top;\n",
       "    }\n",
       "\n",
       "    .dataframe thead th {\n",
       "        text-align: right;\n",
       "    }\n",
       "</style>\n",
       "<table border=\"1\" class=\"dataframe\">\n",
       "  <thead>\n",
       "    <tr style=\"text-align: right;\">\n",
       "      <th></th>\n",
       "      <th>missing_values</th>\n",
       "      <th>percent</th>\n",
       "    </tr>\n",
       "  </thead>\n",
       "  <tbody>\n",
       "    <tr>\n",
       "      <th>Id</th>\n",
       "      <td>0</td>\n",
       "      <td>0.0</td>\n",
       "    </tr>\n",
       "    <tr>\n",
       "      <th>GrLivArea</th>\n",
       "      <td>0</td>\n",
       "      <td>0.0</td>\n",
       "    </tr>\n",
       "    <tr>\n",
       "      <th>GarageArea</th>\n",
       "      <td>0</td>\n",
       "      <td>0.0</td>\n",
       "    </tr>\n",
       "    <tr>\n",
       "      <th>SalePrice</th>\n",
       "      <td>0</td>\n",
       "      <td>0.0</td>\n",
       "    </tr>\n",
       "  </tbody>\n",
       "</table>\n",
       "</div>"
      ],
      "text/plain": [
       "            missing_values  percent\n",
       "Id                       0      0.0\n",
       "GrLivArea                0      0.0\n",
       "GarageArea               0      0.0\n",
       "SalePrice                0      0.0"
      ]
     },
     "execution_count": 4,
     "metadata": {},
     "output_type": "execute_result"
    }
   ],
   "source": [
    "# Missing values\n",
    "df_missing = pd.DataFrame(df.isna().sum(), columns = ['missing_values'])\n",
    "df_missing['percent'] = df_missing['missing_values'] / len(df)\n",
    "df_missing.head(50)"
   ]
  },
  {
   "cell_type": "code",
   "execution_count": 5,
   "id": "35a719ea-99cc-4dbe-877d-f131e2fced1c",
   "metadata": {
    "tags": []
   },
   "outputs": [
    {
     "data": {
      "text/html": [
       "<div>\n",
       "<style scoped>\n",
       "    .dataframe tbody tr th:only-of-type {\n",
       "        vertical-align: middle;\n",
       "    }\n",
       "\n",
       "    .dataframe tbody tr th {\n",
       "        vertical-align: top;\n",
       "    }\n",
       "\n",
       "    .dataframe thead th {\n",
       "        text-align: right;\n",
       "    }\n",
       "</style>\n",
       "<table border=\"1\" class=\"dataframe\">\n",
       "  <thead>\n",
       "    <tr style=\"text-align: right;\">\n",
       "      <th></th>\n",
       "      <th>Id</th>\n",
       "      <th>GrLivArea</th>\n",
       "      <th>GarageArea</th>\n",
       "      <th>SalePrice</th>\n",
       "    </tr>\n",
       "  </thead>\n",
       "  <tbody>\n",
       "    <tr>\n",
       "      <th>count</th>\n",
       "      <td>1460.000000</td>\n",
       "      <td>1460.000000</td>\n",
       "      <td>1460.000000</td>\n",
       "      <td>1460.000000</td>\n",
       "    </tr>\n",
       "    <tr>\n",
       "      <th>mean</th>\n",
       "      <td>730.500000</td>\n",
       "      <td>1515.463699</td>\n",
       "      <td>472.980137</td>\n",
       "      <td>180921.195890</td>\n",
       "    </tr>\n",
       "    <tr>\n",
       "      <th>std</th>\n",
       "      <td>421.610009</td>\n",
       "      <td>525.480383</td>\n",
       "      <td>213.804841</td>\n",
       "      <td>79442.502883</td>\n",
       "    </tr>\n",
       "    <tr>\n",
       "      <th>min</th>\n",
       "      <td>1.000000</td>\n",
       "      <td>334.000000</td>\n",
       "      <td>0.000000</td>\n",
       "      <td>34900.000000</td>\n",
       "    </tr>\n",
       "    <tr>\n",
       "      <th>25%</th>\n",
       "      <td>365.750000</td>\n",
       "      <td>1129.500000</td>\n",
       "      <td>334.500000</td>\n",
       "      <td>129975.000000</td>\n",
       "    </tr>\n",
       "    <tr>\n",
       "      <th>50%</th>\n",
       "      <td>730.500000</td>\n",
       "      <td>1464.000000</td>\n",
       "      <td>480.000000</td>\n",
       "      <td>163000.000000</td>\n",
       "    </tr>\n",
       "    <tr>\n",
       "      <th>75%</th>\n",
       "      <td>1095.250000</td>\n",
       "      <td>1776.750000</td>\n",
       "      <td>576.000000</td>\n",
       "      <td>214000.000000</td>\n",
       "    </tr>\n",
       "    <tr>\n",
       "      <th>max</th>\n",
       "      <td>1460.000000</td>\n",
       "      <td>5642.000000</td>\n",
       "      <td>1418.000000</td>\n",
       "      <td>755000.000000</td>\n",
       "    </tr>\n",
       "  </tbody>\n",
       "</table>\n",
       "</div>"
      ],
      "text/plain": [
       "                Id    GrLivArea   GarageArea      SalePrice\n",
       "count  1460.000000  1460.000000  1460.000000    1460.000000\n",
       "mean    730.500000  1515.463699   472.980137  180921.195890\n",
       "std     421.610009   525.480383   213.804841   79442.502883\n",
       "min       1.000000   334.000000     0.000000   34900.000000\n",
       "25%     365.750000  1129.500000   334.500000  129975.000000\n",
       "50%     730.500000  1464.000000   480.000000  163000.000000\n",
       "75%    1095.250000  1776.750000   576.000000  214000.000000\n",
       "max    1460.000000  5642.000000  1418.000000  755000.000000"
      ]
     },
     "execution_count": 5,
     "metadata": {},
     "output_type": "execute_result"
    }
   ],
   "source": [
    "# Describe\n",
    "df.describe()"
   ]
  },
  {
   "cell_type": "code",
   "execution_count": 6,
   "id": "ba20e9bf-1e8c-4336-a5a0-fe2e4ae133d2",
   "metadata": {
    "tags": []
   },
   "outputs": [
    {
     "data": {
      "image/png": "[encoded data removed]",
      "text/plain": [
       "<Figure size 640x480 with 1 Axes>"
      ]
     },
     "metadata": {},
     "output_type": "display_data"
    }
   ],
   "source": [
    "# Plot\n",
    "# GrLivArea\n",
    "X = df['GrLivArea']\n",
    "y = df['SalePrice']\n",
    "plt.scatter(X, y, label=\"Data\")\n",
    "plt.xlabel(f\"GrLivArea\")\n",
    "plt.ylabel(f\"SalePrice\")\n",
    "plt.title(\"Slas price per living area.\")\n",
    "plt.show()"
   ]
  },
  {
   "cell_type": "code",
   "execution_count": 7,
   "id": "6053317e-09e8-4da7-b297-88c131d6fd6d",
   "metadata": {
    "tags": []
   },
   "outputs": [
    {
     "data": {
      "image/png": "[encoded data removed]",
      "text/plain": [
       "<Figure size 640x480 with 1 Axes>"
      ]
     },
     "metadata": {},
     "output_type": "display_data"
    }
   ],
   "source": [
    "# Plot\n",
    "# GarageArea\n",
    "X = df['GarageArea']\n",
    "y = df['SalePrice']\n",
    "plt.scatter(X, y, label=\"Data\")\n",
    "plt.xlabel(f\"GarageArea\")\n",
    "plt.ylabel(f\"SalePrice\")\n",
    "plt.title(\"Slas price per living area.\")\n",
    "plt.show()"
   ]
  },
  {
   "cell_type": "markdown",
   "id": "7463c16e-bf9e-4dd6-9730-60c963b30be5",
   "metadata": {},
   "source": [
    "## 1. Statistical Approach (Single Variable)\n",
    "\n",
    "We'll start by fitting a simple linear regression line using the closed-form solution of Ordinary Least Squares (OLS) with one independent variable.\n",
    "\n",
    "### Mathematical Formulation\n",
    "\n",
    "In simple linear regression, we aim to model the relationship between a dependent variable $y$ and an independent variable $x$ using the equation:\n",
    "\n",
    "$$\n",
    "y = \\beta_0 + \\beta_1 x + \\varepsilon\n",
    "$$\n",
    "\n",
    "Where:  \n",
    "- $\\beta_0$ is the intercept  \n",
    "- $\\beta_1$ is the slope of the regression line  \n",
    "- $\\varepsilon$ is the error term (residual)\n",
    "\n",
    "The OLS method finds the values of $\\beta_0$ and $\\beta_1$ that minimize the sum of squared residuals:\n",
    "\n",
    "$$\n",
    "\\min \\sum_{i=1}^{n} (y_i - \\beta_0 - \\beta_1 x_i)^2\n",
    "$$\n",
    "\n",
    "The optimal coefficients can be computed using the closed-form formulas:\n",
    "\n",
    "$$\n",
    "\\beta_1 = \\frac{\\sum_{i=1}^{n} (x_i - \\bar{x})(y_i - \\bar{y})}{\\sum_{i=1}^{n} (x_i - \\bar{x})^2}\n",
    "$$\n",
    "\n",
    "$$\n",
    "\\beta_0 = \\bar{y} - \\beta_1 \\bar{x}\n",
    "$$\n",
    "\n",
    "These equations give us the best-fitting line through the data by minimizing the total squared error.\n",
    "\n"
   ]
  },
  {
   "cell_type": "code",
   "execution_count": 8,
   "id": "b47ec046-4814-40be-b61e-a2242cd5fb9a",
   "metadata": {
    "tags": []
   },
   "outputs": [
    {
     "name": "stdout",
     "output_type": "stream",
     "text": [
      "Intercept: 18569.03\n",
      "Coefficients: 107.13\n"
     ]
    }
   ],
   "source": [
    "# Calculate coefficients manually\n",
    "X = df['GrLivArea']\n",
    "y = df['SalePrice']\n",
    "\n",
    "X_mean = np.mean(X)\n",
    "y_mean = np.mean(y)\n",
    "\n",
    "numerator = np.sum((X - X_mean) * (y - y_mean))\n",
    "denominator = np.sum((X - X_mean)**2)\n",
    "slope = numerator / denominator\n",
    "intercept = y_mean - slope * X_mean\n",
    "\n",
    "print(f\"Intercept: {intercept:.2f}\")\n",
    "print(f\"Coefficients: {slope:.2f}\")\n"
   ]
  },
  {
   "cell_type": "code",
   "execution_count": 9,
   "id": "2b0ba9c1-d56c-4c1e-aaa1-1e3d9ab69620",
   "metadata": {
    "tags": []
   },
   "outputs": [
    {
     "name": "stdout",
     "output_type": "stream",
     "text": [
      "Intercept: 18569.03\n",
      "Coefficients: [107.13035897]\n",
      "R² (sklearn): 0.5021\n"
     ]
    }
   ],
   "source": [
    "# Verify using scikit-learn\n",
    "model = LinearRegression()\n",
    "model.fit(df[['GrLivArea']], y)  \n",
    "print(f\"Intercept: {model.intercept_:.2f}\")\n",
    "print(f\"Coefficients: {model.coef_}\")\n",
    "# ---\n",
    "\n",
    "# Verify R2\n",
    "y_pred = slope * X + intercept\n",
    "r2_sklearn = r2_score(y, y_pred) \n",
    "print(f\"R² (sklearn): {r2_sklearn:.4f}\")"
   ]
  },
  {
   "cell_type": "markdown",
   "id": "b3a0cc39-4f43-459d-a98f-d9e43eed6e08",
   "metadata": {},
   "source": [
    "## 2. Statistical Approach (Two Variables with Matrix Algebra)\n",
    "\n",
    "Now we extend the linear regression approach to use **two or more features** by applying matrix algebra and the **Normal Equation**, which provides a closed-form solution for Ordinary Least Squares (OLS) in multiple linear regression.\n",
    "\n",
    "### Mathematical Formulation\n",
    "\n",
    "In multiple linear regression, we model the target variable $y$ as a linear combination of multiple input features:\n",
    "\n",
    "$$\n",
    "y = X\\beta + \\varepsilon\n",
    "$$\n",
    "\n",
    "Where:\n",
    "- $X$ is the **design matrix** of shape $(n, p)$, where each row represents an observation and each column a feature (with the first column being all 1s for the intercept),\n",
    "- $\\beta$ is the **coefficient vector** of shape $(p, 1)$, containing the intercept and the weights for each feature,\n",
    "- $\\varepsilon$ is the **error vector** (residuals),\n",
    "- $y$ is the **target vector** of shape $(n, 1)$.\n",
    "\n",
    "The goal is to find the $\\beta$ that minimizes the sum of squared errors. The solution is given by the **Normal Equation**:\n",
    "\n",
    "$$\n",
    "\\hat{\\beta} = (X^TX)^{-1}X^Ty\n",
    "$$\n",
    "\n",
    "This equation directly computes the optimal coefficients without the need for iterative optimization (like gradient descent).\n",
    "\n",
    "**Note:**  \n",
    "- This method assumes that $(X^TX)$ is invertible. If it is not (e.g., due to multicollinearity), numerical instability or singular matrix errors can occur.\n",
    "- For most datasets with a moderate number of features and no perfect correlation, the Normal Equation is a very efficient solution.\n",
    "\n"
   ]
  },
  {
   "cell_type": "code",
   "execution_count": 10,
   "id": "8a528d10-d501-4cc8-ad6d-53c952a3bd41",
   "metadata": {
    "tags": []
   },
   "outputs": [
    {
     "name": "stdout",
     "output_type": "stream",
     "text": [
      "Estimated coefficients: [-6915.38067356    80.67131781   138.65724537]\n"
     ]
    }
   ],
   "source": [
    "# Create data with two variables\n",
    "X1 = df['GrLivArea']\n",
    "X2 = df['GarageArea']\n",
    "y = df['SalePrice']\n",
    "\n",
    " # Add intercept term\n",
    "X_mat = np.column_stack((np.ones_like(X1), X1, X2)) \n",
    "\n",
    "# Closed-form solution\n",
    "beta_hat = np.linalg.inv(X_mat.T @ X_mat) @ X_mat.T @ y\n",
    "print(f\"Estimated coefficients: {beta_hat}\")\n"
   ]
  },
  {
   "cell_type": "code",
   "execution_count": 11,
   "id": "9b4a03b7-42ad-49cd-aa6f-93e903b0022b",
   "metadata": {
    "tags": []
   },
   "outputs": [
    {
     "name": "stdout",
     "output_type": "stream",
     "text": [
      "Intercept: -6915.38\n",
      "Coefficients: [ 80.67131781 138.65724537]\n",
      "R² (sklearn): 0.6108\n"
     ]
    }
   ],
   "source": [
    "# Verify using scikit-learn\n",
    "model = LinearRegression()\n",
    "model.fit(df[['GrLivArea', 'GarageArea']], y)  \n",
    "print(f\"Intercept: {model.intercept_:.2f}\")\n",
    "print(f\"Coefficients: {model.coef_}\")\n",
    "# ---\n",
    "\n",
    "# Verify R2\n",
    "y_pred = beta_hat[0] + beta_hat[1] * X1 + beta_hat[2] * X2\n",
    "r2_sklearn = r2_score(y, y_pred) \n",
    "print(f\"R² (sklearn): {r2_sklearn:.4f}\")"
   ]
  },
  {
   "cell_type": "markdown",
   "id": "ffdebe74-7653-4305-bfcb-8639f5a40ddf",
   "metadata": {},
   "source": [
    "## 3. Linear Regression via Gradient Descent\n",
    "\n",
    "In this section, we will compute the linear regression parameters using an **iterative optimization algorithm** called **Gradient Descent**, instead of solving the equations analytically.\n",
    "\n",
    "### Mathematical Formulation\n",
    "\n",
    "In linear regression, we model the target variable \\( y \\) as:\n",
    "\n",
    "$$\n",
    "y = X\\beta + \\varepsilon\n",
    "$$\n",
    "\n",
    "Where:\n",
    "- $X$ is the design matrix (with a column of ones for the intercept),\n",
    "- $\\beta$ is the parameter vector (including intercept and feature weights),\n",
    "- $\\varepsilon$ is the error term.\n",
    "\n",
    "Unlike the Normal Equation, which provides a closed-form solution, Gradient Descent finds the optimal $\\beta$ by **iteratively updating the parameters** to minimize the **cost function** (also called the loss function).\n",
    "\n",
    "### Cost Function (Mean Squared Error)\n",
    "\n",
    "The objective is to minimize the **Mean Squared Error (MSE)** between predictions and true values:\n",
    "\n",
    "$$\n",
    "J(\\beta) = \\frac{1}{2m} \\sum_{i=1}^{m} (h_\\beta(x_i) - y_i)^2\n",
    "$$\n",
    "\n",
    "Where:\n",
    "- $m$ is the number of training examples,\n",
    "- $h_\\beta(x_i) = x_i^T \\beta $ is the prediction for input $x_i$,\n",
    "- $y_i $ is the true target value for example $i$.\n",
    "\n",
    "We include the factor $\\frac{1}{2}$ for convenience when taking derivatives.\n",
    "\n",
    "### Gradient Descent Update Rule\n",
    "\n",
    "To minimize the cost, we repeatedly update the parameters $\\beta$ using the gradient of the cost function:\n",
    "\n",
    "$$\n",
    "\\beta := \\beta - \\alpha \\cdot \\nabla_\\beta J(\\beta)\n",
    "$$\n",
    "\n",
    "Where:\n",
    "- $\\alpha$ is the **learning rate**, a small positive scalar that controls the step size,\n",
    "- $\\nabla_\\beta J(\\beta) $ is the **gradient** of the cost function with respect to $\\beta$.\n",
    "\n",
    "The gradient (vector of partial derivatives) for the MSE cost function is:\n",
    "\n",
    "$$\n",
    "\\nabla_\\beta J(\\beta) = \\frac{1}{m} X^T(X\\beta - y)\n",
    "$$\n",
    "\n",
    "So the update rule becomes:\n",
    "\n",
    "$$\n",
    "\\beta := \\beta - \\alpha \\cdot \\frac{1}{m} X^T(X\\beta - y)\n",
    "$$\n",
    "\n",
    "This process is repeated for a number of **epochs** (iterations) until the cost converges (i.e., changes very little between steps).\n",
    "\n",
    "### The Importance of Choosing a Proper Learning Rate\n",
    "\n",
    "Choosing a good learning rate $\\alpha$ is critical for the success of gradient descent:\n",
    "\n",
    "- If $\\alpha$ is **too small**, the algorithm will converge **very slowly**, taking many iterations to reach a good solution.\n",
    "- If $\\alpha$ is **too large**, the updates can overshoot the minimum, causing the cost to **diverge** or **oscillate wildly**, potentially leading to numerical instability.\n",
    "\n",
    "In practice, choosing a learning rate requires experimentation, and it's common to visualize the cost over time to verify convergence.\n",
    "\n",
    "\n",
    "### Summary\n",
    "\n",
    "Gradient Descent is a powerful optimization algorithm that:\n",
    "- Scales well to large datasets,\n",
    "- Allows for customizations (like regularization),\n",
    "- Forms the foundation of many advanced machine learning algorithms, including deep learning.\n",
    "\n",
    "However, it requires:\n",
    "- Choosing a proper learning rate,\n",
    "- Feature scaling for faster convergence,\n",
    "- Monitoring to avoid local minima or divergence.\n",
    "\n",
    "In the next step, we’ll implement this logic in code and visualize the optimization process.\n"
   ]
  },
  {
   "cell_type": "code",
   "execution_count": 12,
   "id": "bde232b8-6450-4cf0-9b00-7cc6cdb14bf1",
   "metadata": {
    "tags": []
   },
   "outputs": [
    {
     "name": "stderr",
     "output_type": "stream",
     "text": [
      "GD: 100%|█████████████████████████████████████████████████████████████████████| 20000/20000 [00:00<00:00, 79518.15it/s]"
     ]
    },
    {
     "name": "stdout",
     "output_type": "stream",
     "text": [
      "θ (intercept, GrLivArea, GarageArea): [2.12476460e-16 5.33606549e-01 3.73172351e-01]\n",
      "R² (sklearn): 0.6108\n"
     ]
    },
    {
     "name": "stderr",
     "output_type": "stream",
     "text": [
      "\n"
     ]
    }
   ],
   "source": [
    "class LinearRegressionGD:\n",
    "    \"\"\"\n",
    "    Batch‑gradient‑descent linear regression.\n",
    "\n",
    "    * Features and target are scaled internally for stability.\n",
    "    * `predict()` automatically reverses the scaling.\n",
    "    \"\"\"\n",
    "\n",
    "    def __init__(self, lr: float = 1e-5, epochs: int = 10_000,\n",
    "                 tol: float = 1e-8, verbose: bool = True):\n",
    "        # hyper‑parameters\n",
    "        self.lr = lr          # learning rate\n",
    "        self.epochs = epochs  # max passes over the data\n",
    "        self.tol = tol        # stop if cost improves less than this\n",
    "        self.verbose = verbose\n",
    "\n",
    "        # attributes set during fit\n",
    "        self.theta_ = None            # coefficients\n",
    "        self.cost_history_ = []       # cost at each epoch\n",
    "\n",
    "    # ─────────────────────────────────────────────────────────────\n",
    "    def fit(self, X: np.ndarray, y: np.ndarray):\n",
    "        \"\"\"Train the model on raw (unscaled) X and y.\"\"\"\n",
    "        # 1) save means/stds so we can unscale later\n",
    "        self.x_mu_, self.x_sig_ = X.mean(0), X.std(0)\n",
    "        self.y_mu_, self.y_sig_ = y.mean(), y.std()\n",
    "\n",
    "        # 2) Normalize the data\n",
    "        # Scaling the features and target to have zero mean and unit variance\n",
    "        # helps gradient descent converge faster and more reliably.\n",
    "        # Without normalization, features with larger magnitudes dominate the updates,\n",
    "        # which can lead to slow convergence or even divergence.\n",
    "        Xs = (X - self.x_mu_) / self.x_sig_\n",
    "        ys = (y - self.y_mu_) / self.y_sig_\n",
    "\n",
    "        # 3) add bias term (column of 1s)\n",
    "        Xb = np.c_[np.ones(Xs.shape[0]), Xs]\n",
    "\n",
    "        # 4) initialise θ with zeros\n",
    "        m, n = Xb.shape\n",
    "        self.theta_ = np.zeros(n)\n",
    "\n",
    "        # 5) gradient‑descent loop\n",
    "        for epoch in tqdm(range(self.epochs), desc=\"GD\"):\n",
    "            preds   = Xb @ self.theta_          # current predictions\n",
    "            errors  = preds - ys                # residuals\n",
    "            grad    = (1 / m) * (Xb.T @ errors) # gradient of the cost\n",
    "            self.theta_ -= self.lr * grad       # parameter update\n",
    "\n",
    "            # track cost (MSE/2 on scaled data)\n",
    "            cost = (errors @ errors) / (2 * m)\n",
    "            self.cost_history_.append(cost)\n",
    "\n",
    "            # early‑stop if cost is NaN/Inf or barely improving\n",
    "            if (not np.isfinite(cost)) or (\n",
    "                epoch > 0 and abs(self.cost_history_[-2] - cost) < self.tol):\n",
    "                if self.verbose:\n",
    "                    print(f\"Stopped at epoch {epoch}\")\n",
    "                break\n",
    "        return self\n",
    "\n",
    "    # ─────────────────────────────────────────────────────────────\n",
    "    def predict(self, X: np.ndarray) -> np.ndarray:\n",
    "        \"\"\"Return predictions in the **original** target scale.\"\"\"\n",
    "        if self.theta_ is None:\n",
    "            raise RuntimeError(\"Call `fit` first.\")\n",
    "\n",
    "        # scale features, add bias\n",
    "        Xs = (X - self.x_mu_) / self.x_sig_\n",
    "        # Add a column of 1s as the intercept term\n",
    "        Xb = np.c_[np.ones(Xs.shape[0]), Xs]  # np.c_ is a convenient shortcut in NumPy used for column-wise concatenation of arrays. It works like np.concatenate(..., axis=1) but with a more readable syntax.\n",
    "\n",
    "        # predicted target, then un‑scale back to dollars\n",
    "        ys_scaled = Xb @ self.theta_\n",
    "        return ys_scaled * self.y_sig_ + self.y_mu_\n",
    "\n",
    "\n",
    "# ─────────────────────────────────────────────────────────────\n",
    "# Example use\n",
    "# ─────────────────────────────────────────────────────────────\n",
    "X = df[[\"GrLivArea\", \"GarageArea\"]].values\n",
    "y = df[\"SalePrice\"].values\n",
    "\n",
    "model = LinearRegressionGD(lr=1e-3, epochs=20_000, tol=1e-15)\n",
    "model.fit(X, y)\n",
    "\n",
    "print(\"θ (intercept, GrLivArea, GarageArea):\", model.theta_)\n",
    "\n",
    "# R² on training data\n",
    "y_pred = model.predict(X)\n",
    "print(f\"R² (sklearn): {r2_score(y, y_pred):.4f}\")\n"
   ]
  },
  {
   "cell_type": "code",
   "execution_count": 13,
   "id": "2e87db50-1e03-4330-9884-8c5c9583bdff",
   "metadata": {
    "tags": []
   },
   "outputs": [
    {
     "data": {
      "image/png": "[encoded data removed]",
      "text/plain": [
       "<Figure size 640x480 with 1 Axes>"
      ]
     },
     "metadata": {},
     "output_type": "display_data"
    }
   ],
   "source": [
    "# -------------------------------------------------------------------\n",
    "# Plot the cost (error) versus epoch\n",
    "# -------------------------------------------------------------------\n",
    "plt.figure()\n",
    "plt.plot(model.cost_history_)\n",
    "plt.xlabel(\"Epoch\")\n",
    "plt.ylabel(\"Cost (scaled MSE / 2)\")\n",
    "plt.title(\"Gradient Descent Convergence\")\n",
    "plt.tight_layout()\n",
    "plt.show()"
   ]
  },
  {
   "cell_type": "markdown",
   "id": "8cbee5b0-dd64-453f-866c-43da8905693b",
   "metadata": {
    "tags": []
   },
   "source": [
    "## 4. Conclusion: The Importance of Gradient Descent\n",
    "\n",
    "While traditional statistical methods like Ordinary Least Squares (OLS) provide efficient closed-form solutions for linear regression, they become **impractical** or **infeasible** for more complex models and large datasets.\n",
    "\n",
    "This is where **Gradient Descent (GD)** plays a crucial role.\n",
    "\n",
    "### Why Gradient Descent Matters\n",
    "\n",
    "Gradient Descent is a **general-purpose optimization algorithm** that allows us to minimize a wide range of cost functions, even when:\n",
    "- The model has **many parameters**,\n",
    "- The cost function is **non-convex** or **nonlinear**,\n",
    "- A closed-form solution is either **intractable** or **does not exist**.\n",
    "\n",
    "It offers flexibility and scalability, making it suitable for training models far more complex than simple linear regression.\n",
    "\n",
    "### Enabling Deep Learning\n",
    "\n",
    "Modern **deep learning**—involving neural networks with **millions of parameters** and **nonlinear activation functions**—would not be possible without gradient-based optimization.\n",
    "\n",
    "Since there is no closed-form solution for training deep neural networks, algorithms like **Stochastic Gradient Descent (SGD)** and its variants (e.g., Adam, RMSProp) are used to iteratively update parameters and minimize the loss function.\n",
    "\n",
    "In essence, **gradient descent is the backbone of deep learning**. Without it, training models like convolutional neural networks (CNNs), recurrent neural networks (RNNs), and transformers would simply not be feasible.\n",
    "\n",
    "### Summary\n",
    "\n",
    "- **Closed-form solutions** are elegant but limited in scope.\n",
    "- **Gradient descent** generalizes optimization to a wide range of models.\n",
    "- It has **enabled the modern AI revolution**, making it possible to train deep learning models that solve complex real-world problems—from image recognition to natural language understanding.\n",
    "\n",
    "By understanding gradient descent in the context of linear regression, we gain insight into the **foundational technique** powering today's most advanced machine learning systems.\n",
    "\n",
    "\n",
    "\n"
   ]
  },
  {
   "cell_type": "code",
   "execution_count": null,
   "id": "79cb53ef-1af9-48f6-a5e9-c5e1b2b3f29f",
   "metadata": {
    "tags": []
   },
   "outputs": [],
   "source": [
    "\n"
   ]
  }
 ],
 "metadata": {
  "kernelspec": {
   "display_name": "Python 3 (ipykernel)",
   "language": "python",
   "name": "python3"
  },
  "language_info": {
   "codemirror_mode": {
    "name": "ipython",
    "version": 3
   },
   "file_extension": ".py",
   "mimetype": "text/x-python",
   "name": "python",
   "nbconvert_exporter": "python",
   "pygments_lexer": "ipython3",
   "version": "3.10.0"
  }
 },
 "nbformat": 4,
 "nbformat_minor": 5
}
